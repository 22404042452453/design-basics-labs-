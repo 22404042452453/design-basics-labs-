{
 "cells": [
  {
   "cell_type": "markdown",
   "id": "7352d30b",
   "metadata": {},
   "source": [
    "# Лабораторная работа №3"
   ]
  },
  {
   "cell_type": "code",
   "execution_count": 1,
   "id": "6a7b81d7",
   "metadata": {},
   "outputs": [],
   "source": [
    "import pandas as pd \n",
    "import numpy as np\n",
    "\n",
    "p1 = [0.1,0.2,0.3,0.4]\n",
    "a  = [0.7,0.4,0.2,0.1]\n",
    "\n",
    "d = [2,4,6,8]"
   ]
  },
  {
   "cell_type": "markdown",
   "id": "3e78960a",
   "metadata": {},
   "source": [
    "Пропишем исходные функции"
   ]
  },
  {
   "cell_type": "code",
   "execution_count": 2,
   "id": "8f6161e0",
   "metadata": {},
   "outputs": [],
   "source": [
    "Z = lambda d:-0.008*d**3+0.4*d**2 - 5.97*d + 68.3\n",
    "Yo = lambda d:-0.001*d**3+0.07*d**2 + 0.88*d + 0.63\n",
    "Yd = lambda d: 0.001*d**3-0.02*d**2 + 0.09*d - 0.08"
   ]
  },
  {
   "cell_type": "code",
   "execution_count": 3,
   "id": "68c083cb",
   "metadata": {},
   "outputs": [],
   "source": [
    "final_function = lambda a,d : Z(d) + (1-a)*Yo(d) + a*Yd(d)"
   ]
  },
  {
   "cell_type": "markdown",
   "id": "afdef0a3",
   "metadata": {},
   "source": [
    "Создадим платежную матрицу"
   ]
  },
  {
   "cell_type": "code",
   "execution_count": 4,
   "id": "b8bad29f",
   "metadata": {},
   "outputs": [
    {
     "data": {
      "text/plain": [
       "array([[58.7142, 59.5044, 60.0312, 60.2946],\n",
       "       [51.8866, 53.4412, 54.4776, 54.9958],\n",
       "       [47.5854, 50.0628, 51.7144, 52.5402],\n",
       "       [45.4458, 48.9756, 51.3288, 52.5054]])"
      ]
     },
     "execution_count": 4,
     "metadata": {},
     "output_type": "execute_result"
    }
   ],
   "source": [
    "my_pay_matrix = np.zeros([4,4])\n",
    "for i in range(len(a)):\n",
    "    for j in range(len(a)):\n",
    "         my_pay_matrix[i,j] = final_function(a[j],d[i])\n",
    "\n",
    "            \n",
    "my_pay_matrix "
   ]
  },
  {
   "cell_type": "markdown",
   "id": "501bfb24",
   "metadata": {},
   "source": [
    "\n",
    "\n",
    "# Подберем по Условию Лапласса"
   ]
  },
  {
   "cell_type": "code",
   "execution_count": 5,
   "id": "bedb356c",
   "metadata": {},
   "outputs": [
    {
     "data": {
      "text/plain": [
       "array([[ 5.87142, 11.90088, 18.00936, 24.11784],\n",
       "       [ 5.18866, 10.68824, 16.34328, 21.99832],\n",
       "       [ 4.75854, 10.01256, 15.51432, 21.01608],\n",
       "       [ 4.54458,  9.79512, 15.39864, 21.00216]])"
      ]
     },
     "execution_count": 5,
     "metadata": {},
     "output_type": "execute_result"
    }
   ],
   "source": [
    "laplas = my_pay_matrix * p1\n",
    "laplas"
   ]
  },
  {
   "cell_type": "code",
   "execution_count": 6,
   "id": "022eb783",
   "metadata": {},
   "outputs": [
    {
     "data": {
      "text/plain": [
       "array([59.8995, 54.2185, 51.3015, 50.7405])"
      ]
     },
     "execution_count": 6,
     "metadata": {},
     "output_type": "execute_result"
    }
   ],
   "source": [
    "laplas.sum(axis =1)"
   ]
  },
  {
   "cell_type": "code",
   "execution_count": 7,
   "id": "a52cb597",
   "metadata": {},
   "outputs": [
    {
     "data": {
      "text/plain": [
       "'Номер выигрышной стратегии 1'"
      ]
     },
     "execution_count": 7,
     "metadata": {},
     "output_type": "execute_result"
    }
   ],
   "source": [
    "f\"Номер выигрышной стратегии {laplas.sum(axis =1).argmax()+1}\""
   ]
  },
  {
   "cell_type": "markdown",
   "id": "8c9de5ae",
   "metadata": {},
   "source": [
    "В условиях неопределенности"
   ]
  },
  {
   "cell_type": "code",
   "execution_count": 8,
   "id": "37dd4c26",
   "metadata": {},
   "outputs": [
    {
     "data": {
      "text/plain": [
       "array([[58.7142, 59.5044, 60.0312, 60.2946],\n",
       "       [51.8866, 53.4412, 54.4776, 54.9958],\n",
       "       [47.5854, 50.0628, 51.7144, 52.5402],\n",
       "       [45.4458, 48.9756, 51.3288, 52.5054]])"
      ]
     },
     "execution_count": 8,
     "metadata": {},
     "output_type": "execute_result"
    }
   ],
   "source": [
    "laplas = my_pay_matrix * [1/4]*4\n",
    "laplas"
   ]
  },
  {
   "cell_type": "code",
   "execution_count": 9,
   "id": "72b77599",
   "metadata": {},
   "outputs": [
    {
     "data": {
      "text/plain": [
       "array([238.5444, 214.8012, 201.9028, 198.2556])"
      ]
     },
     "execution_count": 9,
     "metadata": {},
     "output_type": "execute_result"
    }
   ],
   "source": [
    "laplas.sum(axis =1)"
   ]
  },
  {
   "cell_type": "code",
   "execution_count": 10,
   "id": "53446d72",
   "metadata": {},
   "outputs": [
    {
     "data": {
      "text/plain": [
       "'Номер выигрышной стратегии 1'"
      ]
     },
     "execution_count": 10,
     "metadata": {},
     "output_type": "execute_result"
    }
   ],
   "source": [
    "f\"Номер выигрышной стратегии {laplas.sum(axis =1).argmax()+1}\""
   ]
  },
  {
   "cell_type": "markdown",
   "id": "0d705e84",
   "metadata": {},
   "source": [
    "# Реализуем алгоритм Вальда"
   ]
  },
  {
   "cell_type": "code",
   "execution_count": 11,
   "id": "85bf3576",
   "metadata": {},
   "outputs": [
    {
     "data": {
      "text/plain": [
       "array([58.7142, 51.8866, 47.5854, 45.4458])"
      ]
     },
     "execution_count": 11,
     "metadata": {},
     "output_type": "execute_result"
    }
   ],
   "source": [
    "vald = my_pay_matrix.min(axis = 1)\n",
    "vald"
   ]
  },
  {
   "cell_type": "code",
   "execution_count": 12,
   "id": "ae1a7c12",
   "metadata": {},
   "outputs": [
    {
     "data": {
      "text/plain": [
       "'Номер выигрышной стратегии 1'"
      ]
     },
     "execution_count": 12,
     "metadata": {},
     "output_type": "execute_result"
    }
   ],
   "source": [
    "f\"Номер выигрышной стратегии {laplas.sum(axis =1).argmax()+1}\""
   ]
  },
  {
   "cell_type": "markdown",
   "id": "1079917a",
   "metadata": {},
   "source": [
    "# Реализуем алгоритм Гурвица"
   ]
  },
  {
   "cell_type": "code",
   "execution_count": 13,
   "id": "573a81a3",
   "metadata": {},
   "outputs": [
    {
     "data": {
      "text/plain": [
       "[60.2946,\n",
       " 60.13656,\n",
       " 59.97852,\n",
       " 59.82048,\n",
       " 59.662440000000004,\n",
       " 59.504400000000004,\n",
       " 59.34636,\n",
       " 59.188320000000004,\n",
       " 59.030280000000005,\n",
       " 58.87224,\n",
       " 58.7142]"
      ]
     },
     "execution_count": 13,
     "metadata": {},
     "output_type": "execute_result"
    }
   ],
   "source": [
    "a = [0.1 * i for i in range(11)]\n",
    "H = [max(a[i]*my_pay_matrix.min(axis=1) + (1-a[i])*my_pay_matrix.max(axis=1)) for i in range(len(a))]\n",
    "H"
   ]
  },
  {
   "cell_type": "code",
   "execution_count": 14,
   "id": "b935d536",
   "metadata": {},
   "outputs": [
    {
     "data": {
      "text/html": [
       "<div>\n",
       "<style scoped>\n",
       "    .dataframe tbody tr th:only-of-type {\n",
       "        vertical-align: middle;\n",
       "    }\n",
       "\n",
       "    .dataframe tbody tr th {\n",
       "        vertical-align: top;\n",
       "    }\n",
       "\n",
       "    .dataframe thead th {\n",
       "        text-align: right;\n",
       "    }\n",
       "</style>\n",
       "<table border=\"1\" class=\"dataframe\">\n",
       "  <thead>\n",
       "    <tr style=\"text-align: right;\">\n",
       "      <th></th>\n",
       "      <th>a</th>\n",
       "      <th>Значение H</th>\n",
       "      <th>Номер выгодной стратегии</th>\n",
       "    </tr>\n",
       "  </thead>\n",
       "  <tbody>\n",
       "    <tr>\n",
       "      <th>0</th>\n",
       "      <td>0.0</td>\n",
       "      <td>60.29460</td>\n",
       "      <td>1</td>\n",
       "    </tr>\n",
       "    <tr>\n",
       "      <th>1</th>\n",
       "      <td>0.1</td>\n",
       "      <td>60.13656</td>\n",
       "      <td>1</td>\n",
       "    </tr>\n",
       "    <tr>\n",
       "      <th>2</th>\n",
       "      <td>0.2</td>\n",
       "      <td>59.97852</td>\n",
       "      <td>1</td>\n",
       "    </tr>\n",
       "    <tr>\n",
       "      <th>3</th>\n",
       "      <td>0.3</td>\n",
       "      <td>59.82048</td>\n",
       "      <td>1</td>\n",
       "    </tr>\n",
       "    <tr>\n",
       "      <th>4</th>\n",
       "      <td>0.4</td>\n",
       "      <td>59.66244</td>\n",
       "      <td>1</td>\n",
       "    </tr>\n",
       "    <tr>\n",
       "      <th>5</th>\n",
       "      <td>0.5</td>\n",
       "      <td>59.50440</td>\n",
       "      <td>1</td>\n",
       "    </tr>\n",
       "    <tr>\n",
       "      <th>6</th>\n",
       "      <td>0.6</td>\n",
       "      <td>59.34636</td>\n",
       "      <td>1</td>\n",
       "    </tr>\n",
       "    <tr>\n",
       "      <th>7</th>\n",
       "      <td>0.7</td>\n",
       "      <td>59.18832</td>\n",
       "      <td>1</td>\n",
       "    </tr>\n",
       "    <tr>\n",
       "      <th>8</th>\n",
       "      <td>0.8</td>\n",
       "      <td>59.03028</td>\n",
       "      <td>1</td>\n",
       "    </tr>\n",
       "    <tr>\n",
       "      <th>9</th>\n",
       "      <td>0.9</td>\n",
       "      <td>58.87224</td>\n",
       "      <td>1</td>\n",
       "    </tr>\n",
       "    <tr>\n",
       "      <th>10</th>\n",
       "      <td>1.0</td>\n",
       "      <td>58.71420</td>\n",
       "      <td>1</td>\n",
       "    </tr>\n",
       "  </tbody>\n",
       "</table>\n",
       "</div>"
      ],
      "text/plain": [
       "      a  Значение H  Номер выгодной стратегии\n",
       "0   0.0    60.29460                         1\n",
       "1   0.1    60.13656                         1\n",
       "2   0.2    59.97852                         1\n",
       "3   0.3    59.82048                         1\n",
       "4   0.4    59.66244                         1\n",
       "5   0.5    59.50440                         1\n",
       "6   0.6    59.34636                         1\n",
       "7   0.7    59.18832                         1\n",
       "8   0.8    59.03028                         1\n",
       "9   0.9    58.87224                         1\n",
       "10  1.0    58.71420                         1"
      ]
     },
     "execution_count": 14,
     "metadata": {},
     "output_type": "execute_result"
    }
   ],
   "source": [
    "df_1 = pd.DataFrame({\n",
    "    \"a\":a,\n",
    "    \"Значение H\" :H,\n",
    "    \"Номер выгодной стратегии\":[(a[i]*my_pay_matrix.min(axis=1) + (1-a[i])*my_pay_matrix.max(axis=1)).argmax()+1 for i in range(len(a))]\n",
    "})\n",
    "df_1"
   ]
  },
  {
   "cell_type": "markdown",
   "id": "388287c7",
   "metadata": {},
   "source": [
    "# Реализуем выбор по Сэвиджу\n",
    "\n",
    "Создадим матрицу рисков\n"
   ]
  },
  {
   "cell_type": "code",
   "execution_count": 15,
   "id": "3ba79af8",
   "metadata": {},
   "outputs": [
    {
     "data": {
      "text/plain": [
       "array([[41.2858, 40.4956, 39.9688, 39.7054],\n",
       "       [48.1134, 46.5588, 45.5224, 45.0042],\n",
       "       [52.4146, 49.9372, 48.2856, 47.4598],\n",
       "       [54.5542, 51.0244, 48.6712, 47.4946]])"
      ]
     },
     "execution_count": 15,
     "metadata": {},
     "output_type": "execute_result"
    }
   ],
   "source": [
    "my_risk = 100 - my_pay_matrix\n",
    "my_risk"
   ]
  },
  {
   "cell_type": "code",
   "execution_count": 16,
   "id": "f1da5407",
   "metadata": {},
   "outputs": [
    {
     "data": {
      "text/plain": [
       "array([41.2858, 48.1134, 52.4146, 54.5542])"
      ]
     },
     "execution_count": 16,
     "metadata": {},
     "output_type": "execute_result"
    }
   ],
   "source": [
    "max_risk = my_risk.max(axis =1)\n",
    "max_risk"
   ]
  },
  {
   "cell_type": "code",
   "execution_count": 17,
   "id": "8f2425cc",
   "metadata": {},
   "outputs": [
    {
     "data": {
      "text/plain": [
       "array([ 3.6876,  7.2548, 11.5612, 16.4724])"
      ]
     },
     "execution_count": 17,
     "metadata": {},
     "output_type": "execute_result"
    }
   ],
   "source": [
    "result = []\n",
    "for i in range(len(max_risk)):\n",
    "    result.append(abs(sum((my_risk[i]-max_risk[i]))))\n",
    "np.array(result)"
   ]
  },
  {
   "cell_type": "code",
   "execution_count": 18,
   "id": "13447891",
   "metadata": {},
   "outputs": [
    {
     "data": {
      "text/plain": [
       "'Номер выигрышной стратегии 1'"
      ]
     },
     "execution_count": 18,
     "metadata": {},
     "output_type": "execute_result"
    }
   ],
   "source": [
    "f\"Номер выигрышной стратегии {np.array(result).argmin()+1}\""
   ]
  }
 ],
 "metadata": {
  "kernelspec": {
   "display_name": "Python 3 (ipykernel)",
   "language": "python",
   "name": "python3"
  },
  "language_info": {
   "codemirror_mode": {
    "name": "ipython",
    "version": 3
   },
   "file_extension": ".py",
   "mimetype": "text/x-python",
   "name": "python",
   "nbconvert_exporter": "python",
   "pygments_lexer": "ipython3",
   "version": "3.9.7"
  }
 },
 "nbformat": 4,
 "nbformat_minor": 5
}
