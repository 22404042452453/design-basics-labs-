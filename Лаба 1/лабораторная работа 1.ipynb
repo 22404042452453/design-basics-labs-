{
 "cells": [
  {
   "cell_type": "code",
   "execution_count": 1,
   "id": "cdd93431",
   "metadata": {},
   "outputs": [],
   "source": [
    "import pandas as pd \n",
    "import numpy as np\n",
    "import matplotlib.pyplot as plt"
   ]
  },
  {
   "cell_type": "code",
   "execution_count": 2,
   "id": "0d1c8601",
   "metadata": {},
   "outputs": [
    {
     "data": {
      "text/html": [
       "<div>\n",
       "<style scoped>\n",
       "    .dataframe tbody tr th:only-of-type {\n",
       "        vertical-align: middle;\n",
       "    }\n",
       "\n",
       "    .dataframe tbody tr th {\n",
       "        vertical-align: top;\n",
       "    }\n",
       "\n",
       "    .dataframe thead th {\n",
       "        text-align: right;\n",
       "    }\n",
       "</style>\n",
       "<table border=\"1\" class=\"dataframe\">\n",
       "  <thead>\n",
       "    <tr style=\"text-align: right;\">\n",
       "      <th></th>\n",
       "      <th>1</th>\n",
       "      <th>2</th>\n",
       "      <th>3</th>\n",
       "    </tr>\n",
       "  </thead>\n",
       "  <tbody>\n",
       "    <tr>\n",
       "      <th>0</th>\n",
       "      <td>3.777</td>\n",
       "      <td>3.651</td>\n",
       "      <td>3.651</td>\n",
       "    </tr>\n",
       "    <tr>\n",
       "      <th>1</th>\n",
       "      <td>4.940</td>\n",
       "      <td>1.512</td>\n",
       "      <td>1.008</td>\n",
       "    </tr>\n",
       "    <tr>\n",
       "      <th>2</th>\n",
       "      <td>7.450</td>\n",
       "      <td>2.251</td>\n",
       "      <td>1.424</td>\n",
       "    </tr>\n",
       "  </tbody>\n",
       "</table>\n",
       "</div>"
      ],
      "text/plain": [
       "       1      2      3\n",
       "0  3.777  3.651  3.651\n",
       "1  4.940  1.512  1.008\n",
       "2  7.450  2.251  1.424"
      ]
     },
     "execution_count": 2,
     "metadata": {},
     "output_type": "execute_result"
    }
   ],
   "source": [
    "my_dataframe = pd.read_excel('1.xlsx')\n",
    "my_dataframe"
   ]
  },
  {
   "cell_type": "markdown",
   "id": "e27d74e9",
   "metadata": {},
   "source": [
    "Преобразуем нашу платежную матрицу"
   ]
  },
  {
   "cell_type": "code",
   "execution_count": 3,
   "id": "bad9ab18",
   "metadata": {},
   "outputs": [
    {
     "data": {
      "text/html": [
       "<div>\n",
       "<style scoped>\n",
       "    .dataframe tbody tr th:only-of-type {\n",
       "        vertical-align: middle;\n",
       "    }\n",
       "\n",
       "    .dataframe tbody tr th {\n",
       "        vertical-align: top;\n",
       "    }\n",
       "\n",
       "    .dataframe thead th {\n",
       "        text-align: right;\n",
       "    }\n",
       "</style>\n",
       "<table border=\"1\" class=\"dataframe\">\n",
       "  <thead>\n",
       "    <tr style=\"text-align: right;\">\n",
       "      <th></th>\n",
       "      <th>1</th>\n",
       "      <th>2</th>\n",
       "      <th>3</th>\n",
       "    </tr>\n",
       "  </thead>\n",
       "  <tbody>\n",
       "    <tr>\n",
       "      <th>0</th>\n",
       "      <td>6.223</td>\n",
       "      <td>6.349</td>\n",
       "      <td>6.349</td>\n",
       "    </tr>\n",
       "    <tr>\n",
       "      <th>1</th>\n",
       "      <td>5.060</td>\n",
       "      <td>8.488</td>\n",
       "      <td>8.992</td>\n",
       "    </tr>\n",
       "    <tr>\n",
       "      <th>2</th>\n",
       "      <td>2.550</td>\n",
       "      <td>7.749</td>\n",
       "      <td>8.576</td>\n",
       "    </tr>\n",
       "  </tbody>\n",
       "</table>\n",
       "</div>"
      ],
      "text/plain": [
       "       1      2      3\n",
       "0  6.223  6.349  6.349\n",
       "1  5.060  8.488  8.992\n",
       "2  2.550  7.749  8.576"
      ]
     },
     "execution_count": 3,
     "metadata": {},
     "output_type": "execute_result"
    }
   ],
   "source": [
    "my_new_matrix = 10 - my_dataframe\n",
    "my_new_matrix"
   ]
  },
  {
   "cell_type": "code",
   "execution_count": 4,
   "id": "d20a2dbc",
   "metadata": {},
   "outputs": [
    {
     "data": {
      "text/plain": [
       "array([[6.349],\n",
       "       [8.992],\n",
       "       [8.576]])"
      ]
     },
     "execution_count": 4,
     "metadata": {},
     "output_type": "execute_result"
    }
   ],
   "source": [
    "np.array([list(my_new_matrix.max(axis = 1))]).T"
   ]
  },
  {
   "cell_type": "markdown",
   "id": "310cb195",
   "metadata": {},
   "source": [
    "Создадим матрицу рисков"
   ]
  },
  {
   "cell_type": "code",
   "execution_count": 5,
   "id": "1ed8898b",
   "metadata": {},
   "outputs": [
    {
     "data": {
      "text/html": [
       "<div>\n",
       "<style scoped>\n",
       "    .dataframe tbody tr th:only-of-type {\n",
       "        vertical-align: middle;\n",
       "    }\n",
       "\n",
       "    .dataframe tbody tr th {\n",
       "        vertical-align: top;\n",
       "    }\n",
       "\n",
       "    .dataframe thead th {\n",
       "        text-align: right;\n",
       "    }\n",
       "</style>\n",
       "<table border=\"1\" class=\"dataframe\">\n",
       "  <thead>\n",
       "    <tr style=\"text-align: right;\">\n",
       "      <th></th>\n",
       "      <th>0</th>\n",
       "      <th>1</th>\n",
       "      <th>2</th>\n",
       "    </tr>\n",
       "  </thead>\n",
       "  <tbody>\n",
       "    <tr>\n",
       "      <th>0</th>\n",
       "      <td>0.126</td>\n",
       "      <td>0.000</td>\n",
       "      <td>0.0</td>\n",
       "    </tr>\n",
       "    <tr>\n",
       "      <th>1</th>\n",
       "      <td>3.932</td>\n",
       "      <td>0.504</td>\n",
       "      <td>0.0</td>\n",
       "    </tr>\n",
       "    <tr>\n",
       "      <th>2</th>\n",
       "      <td>6.026</td>\n",
       "      <td>0.827</td>\n",
       "      <td>0.0</td>\n",
       "    </tr>\n",
       "  </tbody>\n",
       "</table>\n",
       "</div>"
      ],
      "text/plain": [
       "       0      1    2\n",
       "0  0.126  0.000  0.0\n",
       "1  3.932  0.504  0.0\n",
       "2  6.026  0.827  0.0"
      ]
     },
     "execution_count": 5,
     "metadata": {},
     "output_type": "execute_result"
    }
   ],
   "source": [
    "my_risk = np.array(np.array([list(my_new_matrix.max(axis = 1))]).T - np.array(my_new_matrix))\n",
    "pd.DataFrame(my_risk)"
   ]
  },
  {
   "cell_type": "code",
   "execution_count": 6,
   "id": "60861779",
   "metadata": {},
   "outputs": [],
   "source": [
    "p1 = 0.2\n",
    "p2 = 0.5\n",
    "p3 = 1-p1-p2"
   ]
  },
  {
   "cell_type": "code",
   "execution_count": 7,
   "id": "965088b0",
   "metadata": {},
   "outputs": [
    {
     "data": {
      "text/html": [
       "<div>\n",
       "<style scoped>\n",
       "    .dataframe tbody tr th:only-of-type {\n",
       "        vertical-align: middle;\n",
       "    }\n",
       "\n",
       "    .dataframe tbody tr th {\n",
       "        vertical-align: top;\n",
       "    }\n",
       "\n",
       "    .dataframe thead th {\n",
       "        text-align: right;\n",
       "    }\n",
       "</style>\n",
       "<table border=\"1\" class=\"dataframe\">\n",
       "  <thead>\n",
       "    <tr style=\"text-align: right;\">\n",
       "      <th></th>\n",
       "      <th>1</th>\n",
       "      <th>2</th>\n",
       "      <th>3</th>\n",
       "    </tr>\n",
       "  </thead>\n",
       "  <tbody>\n",
       "    <tr>\n",
       "      <th>0</th>\n",
       "      <td>1.2446</td>\n",
       "      <td>3.1745</td>\n",
       "      <td>1.9047</td>\n",
       "    </tr>\n",
       "    <tr>\n",
       "      <th>1</th>\n",
       "      <td>1.0120</td>\n",
       "      <td>4.2440</td>\n",
       "      <td>2.6976</td>\n",
       "    </tr>\n",
       "    <tr>\n",
       "      <th>2</th>\n",
       "      <td>0.5100</td>\n",
       "      <td>3.8745</td>\n",
       "      <td>2.5728</td>\n",
       "    </tr>\n",
       "  </tbody>\n",
       "</table>\n",
       "</div>"
      ],
      "text/plain": [
       "        1       2       3\n",
       "0  1.2446  3.1745  1.9047\n",
       "1  1.0120  4.2440  2.6976\n",
       "2  0.5100  3.8745  2.5728"
      ]
     },
     "execution_count": 7,
     "metadata": {},
     "output_type": "execute_result"
    }
   ],
   "source": [
    "mat = my_new_matrix*[p1,p2,p3]\n",
    "mat"
   ]
  },
  {
   "cell_type": "code",
   "execution_count": 8,
   "id": "d3c5842f",
   "metadata": {},
   "outputs": [
    {
     "data": {
      "text/html": [
       "<div>\n",
       "<style scoped>\n",
       "    .dataframe tbody tr th:only-of-type {\n",
       "        vertical-align: middle;\n",
       "    }\n",
       "\n",
       "    .dataframe tbody tr th {\n",
       "        vertical-align: top;\n",
       "    }\n",
       "\n",
       "    .dataframe thead th {\n",
       "        text-align: right;\n",
       "    }\n",
       "</style>\n",
       "<table border=\"1\" class=\"dataframe\">\n",
       "  <thead>\n",
       "    <tr style=\"text-align: right;\">\n",
       "      <th></th>\n",
       "      <th>0</th>\n",
       "    </tr>\n",
       "  </thead>\n",
       "  <tbody>\n",
       "    <tr>\n",
       "      <th>0</th>\n",
       "      <td>6.3238</td>\n",
       "    </tr>\n",
       "    <tr>\n",
       "      <th>1</th>\n",
       "      <td>7.9536</td>\n",
       "    </tr>\n",
       "    <tr>\n",
       "      <th>2</th>\n",
       "      <td>6.9573</td>\n",
       "    </tr>\n",
       "  </tbody>\n",
       "</table>\n",
       "</div>"
      ],
      "text/plain": [
       "        0\n",
       "0  6.3238\n",
       "1  7.9536\n",
       "2  6.9573"
      ]
     },
     "execution_count": 8,
     "metadata": {},
     "output_type": "execute_result"
    }
   ],
   "source": [
    "pd.DataFrame(mat.sum(axis = 1))"
   ]
  },
  {
   "cell_type": "code",
   "execution_count": 9,
   "id": "f2be19b8",
   "metadata": {},
   "outputs": [
    {
     "data": {
      "text/plain": [
       "0    6.3238\n",
       "1    7.9536\n",
       "2    6.9573\n",
       "dtype: float64"
      ]
     },
     "execution_count": 9,
     "metadata": {},
     "output_type": "execute_result"
    }
   ],
   "source": [
    "my_seriess = mat.sum(axis = 1)\n",
    "my_seriess"
   ]
  },
  {
   "cell_type": "code",
   "execution_count": 10,
   "id": "360398fc",
   "metadata": {},
   "outputs": [
    {
     "data": {
      "text/plain": [
       "'Исходя из матрицы мат ожидания видно, что 2 вариант нам подходит'"
      ]
     },
     "execution_count": 10,
     "metadata": {},
     "output_type": "execute_result"
    }
   ],
   "source": [
    "f\"Исходя из матрицы мат ожидания видно, что {my_seriess.argmax()+1} вариант нам подходит\""
   ]
  },
  {
   "cell_type": "markdown",
   "id": "8e352eea",
   "metadata": {},
   "source": [
    " Решим с помощью матрицы рисков"
   ]
  },
  {
   "cell_type": "code",
   "execution_count": 11,
   "id": "df499f1c",
   "metadata": {},
   "outputs": [
    {
     "data": {
      "text/plain": [
       "array([0.0252, 1.0384, 1.6187])"
      ]
     },
     "execution_count": 11,
     "metadata": {},
     "output_type": "execute_result"
    }
   ],
   "source": [
    "r1 = my_risk*[p1,p2,p3]\n",
    "r1.sum(axis = 1)"
   ]
  },
  {
   "cell_type": "code",
   "execution_count": 12,
   "id": "17288197",
   "metadata": {},
   "outputs": [
    {
     "data": {
      "text/html": [
       "<div>\n",
       "<style scoped>\n",
       "    .dataframe tbody tr th:only-of-type {\n",
       "        vertical-align: middle;\n",
       "    }\n",
       "\n",
       "    .dataframe tbody tr th {\n",
       "        vertical-align: top;\n",
       "    }\n",
       "\n",
       "    .dataframe thead th {\n",
       "        text-align: right;\n",
       "    }\n",
       "</style>\n",
       "<table border=\"1\" class=\"dataframe\">\n",
       "  <thead>\n",
       "    <tr style=\"text-align: right;\">\n",
       "      <th></th>\n",
       "      <th>0</th>\n",
       "      <th>1</th>\n",
       "      <th>2</th>\n",
       "    </tr>\n",
       "  </thead>\n",
       "  <tbody>\n",
       "    <tr>\n",
       "      <th>0</th>\n",
       "      <td>0.126</td>\n",
       "      <td>0.000</td>\n",
       "      <td>0.0</td>\n",
       "    </tr>\n",
       "    <tr>\n",
       "      <th>1</th>\n",
       "      <td>3.932</td>\n",
       "      <td>0.504</td>\n",
       "      <td>0.0</td>\n",
       "    </tr>\n",
       "    <tr>\n",
       "      <th>2</th>\n",
       "      <td>6.026</td>\n",
       "      <td>0.827</td>\n",
       "      <td>0.0</td>\n",
       "    </tr>\n",
       "  </tbody>\n",
       "</table>\n",
       "</div>"
      ],
      "text/plain": [
       "       0      1    2\n",
       "0  0.126  0.000  0.0\n",
       "1  3.932  0.504  0.0\n",
       "2  6.026  0.827  0.0"
      ]
     },
     "execution_count": 12,
     "metadata": {},
     "output_type": "execute_result"
    }
   ],
   "source": [
    "pd.DataFrame(my_risk)"
   ]
  },
  {
   "cell_type": "code",
   "execution_count": 13,
   "id": "9d1c29c0",
   "metadata": {},
   "outputs": [
    {
     "data": {
      "text/plain": [
       "'Исходя из матрицы рисков видно, что 1 является самым надежным'"
      ]
     },
     "execution_count": 13,
     "metadata": {},
     "output_type": "execute_result"
    }
   ],
   "source": [
    "f\"Исходя из матрицы рисков видно, что {r1.sum(axis = 1).argmin()+1} является самым надежным\""
   ]
  },
  {
   "cell_type": "code",
   "execution_count": 14,
   "id": "974a8b1d",
   "metadata": {},
   "outputs": [
    {
     "data": {
      "text/plain": [
       "0    6.307000\n",
       "1    7.513333\n",
       "2    6.291667\n",
       "dtype: float64"
      ]
     },
     "execution_count": 14,
     "metadata": {},
     "output_type": "execute_result"
    }
   ],
   "source": [
    "laplas = 1/3*my_new_matrix.sum(axis = 1)\n",
    "laplas "
   ]
  },
  {
   "cell_type": "code",
   "execution_count": 15,
   "id": "c5e9614f",
   "metadata": {},
   "outputs": [
    {
     "data": {
      "text/plain": [
       "'На основании недостаточности основания Лапласса принимаем вариант 2'"
      ]
     },
     "execution_count": 15,
     "metadata": {},
     "output_type": "execute_result"
    }
   ],
   "source": [
    "f\"На основании недостаточности основания Лапласса принимаем вариант {laplas.argmax()+1}\""
   ]
  },
  {
   "cell_type": "markdown",
   "id": "d45e13a7",
   "metadata": {},
   "source": [
    "Критерий Вальда"
   ]
  },
  {
   "cell_type": "code",
   "execution_count": 16,
   "id": "2a8b4e56",
   "metadata": {},
   "outputs": [
    {
     "data": {
      "text/html": [
       "<div>\n",
       "<style scoped>\n",
       "    .dataframe tbody tr th:only-of-type {\n",
       "        vertical-align: middle;\n",
       "    }\n",
       "\n",
       "    .dataframe tbody tr th {\n",
       "        vertical-align: top;\n",
       "    }\n",
       "\n",
       "    .dataframe thead th {\n",
       "        text-align: right;\n",
       "    }\n",
       "</style>\n",
       "<table border=\"1\" class=\"dataframe\">\n",
       "  <thead>\n",
       "    <tr style=\"text-align: right;\">\n",
       "      <th></th>\n",
       "      <th>1</th>\n",
       "      <th>2</th>\n",
       "      <th>3</th>\n",
       "    </tr>\n",
       "  </thead>\n",
       "  <tbody>\n",
       "    <tr>\n",
       "      <th>0</th>\n",
       "      <td>6.223</td>\n",
       "      <td>6.349</td>\n",
       "      <td>6.349</td>\n",
       "    </tr>\n",
       "    <tr>\n",
       "      <th>1</th>\n",
       "      <td>5.060</td>\n",
       "      <td>8.488</td>\n",
       "      <td>8.992</td>\n",
       "    </tr>\n",
       "    <tr>\n",
       "      <th>2</th>\n",
       "      <td>2.550</td>\n",
       "      <td>7.749</td>\n",
       "      <td>8.576</td>\n",
       "    </tr>\n",
       "  </tbody>\n",
       "</table>\n",
       "</div>"
      ],
      "text/plain": [
       "       1      2      3\n",
       "0  6.223  6.349  6.349\n",
       "1  5.060  8.488  8.992\n",
       "2  2.550  7.749  8.576"
      ]
     },
     "execution_count": 16,
     "metadata": {},
     "output_type": "execute_result"
    }
   ],
   "source": [
    "pd.DataFrame(my_new_matrix)"
   ]
  },
  {
   "cell_type": "code",
   "execution_count": 17,
   "id": "1e749665",
   "metadata": {},
   "outputs": [
    {
     "data": {
      "text/plain": [
       "0    6.223\n",
       "1    5.060\n",
       "2    2.550\n",
       "dtype: float64"
      ]
     },
     "execution_count": 17,
     "metadata": {},
     "output_type": "execute_result"
    }
   ],
   "source": [
    "W = my_new_matrix.min(axis = 1)\n",
    "W"
   ]
  },
  {
   "cell_type": "code",
   "execution_count": 18,
   "id": "f694696d",
   "metadata": {},
   "outputs": [
    {
     "data": {
      "text/plain": [
       "'По критерию Вальда 1 вариант проходит'"
      ]
     },
     "execution_count": 18,
     "metadata": {},
     "output_type": "execute_result"
    }
   ],
   "source": [
    "f\"По критерию Вальда {W.argmax()+1} вариант проходит\""
   ]
  },
  {
   "cell_type": "markdown",
   "id": "2f9e6ba4",
   "metadata": {},
   "source": [
    "Принимаем решение по критерию Сэвиджа"
   ]
  },
  {
   "cell_type": "code",
   "execution_count": 19,
   "id": "c214b29e",
   "metadata": {},
   "outputs": [
    {
     "data": {
      "text/html": [
       "<div>\n",
       "<style scoped>\n",
       "    .dataframe tbody tr th:only-of-type {\n",
       "        vertical-align: middle;\n",
       "    }\n",
       "\n",
       "    .dataframe tbody tr th {\n",
       "        vertical-align: top;\n",
       "    }\n",
       "\n",
       "    .dataframe thead th {\n",
       "        text-align: right;\n",
       "    }\n",
       "</style>\n",
       "<table border=\"1\" class=\"dataframe\">\n",
       "  <thead>\n",
       "    <tr style=\"text-align: right;\">\n",
       "      <th></th>\n",
       "      <th>0</th>\n",
       "      <th>1</th>\n",
       "      <th>2</th>\n",
       "    </tr>\n",
       "  </thead>\n",
       "  <tbody>\n",
       "    <tr>\n",
       "      <th>0</th>\n",
       "      <td>0.126</td>\n",
       "      <td>0.000</td>\n",
       "      <td>0.0</td>\n",
       "    </tr>\n",
       "    <tr>\n",
       "      <th>1</th>\n",
       "      <td>3.932</td>\n",
       "      <td>0.504</td>\n",
       "      <td>0.0</td>\n",
       "    </tr>\n",
       "    <tr>\n",
       "      <th>2</th>\n",
       "      <td>6.026</td>\n",
       "      <td>0.827</td>\n",
       "      <td>0.0</td>\n",
       "    </tr>\n",
       "  </tbody>\n",
       "</table>\n",
       "</div>"
      ],
      "text/plain": [
       "       0      1    2\n",
       "0  0.126  0.000  0.0\n",
       "1  3.932  0.504  0.0\n",
       "2  6.026  0.827  0.0"
      ]
     },
     "execution_count": 19,
     "metadata": {},
     "output_type": "execute_result"
    }
   ],
   "source": [
    "pd.DataFrame(my_risk)"
   ]
  },
  {
   "cell_type": "code",
   "execution_count": 20,
   "id": "25047d33",
   "metadata": {},
   "outputs": [
    {
     "data": {
      "text/plain": [
       "array([0.126, 3.932, 6.026])"
      ]
     },
     "execution_count": 20,
     "metadata": {},
     "output_type": "execute_result"
    }
   ],
   "source": [
    "Savige = my_risk.max(axis = 1)\n",
    "Savige"
   ]
  },
  {
   "cell_type": "code",
   "execution_count": 21,
   "id": "141be294",
   "metadata": {},
   "outputs": [
    {
     "data": {
      "text/plain": [
       "'По критерию Сэвиджа 1 вариант проходит'"
      ]
     },
     "execution_count": 21,
     "metadata": {},
     "output_type": "execute_result"
    }
   ],
   "source": [
    "f\"По критерию Сэвиджа {Savige.argmin()+1} вариант проходит\""
   ]
  },
  {
   "cell_type": "markdown",
   "id": "bda1b4f0",
   "metadata": {},
   "source": [
    "Определяем по критерию Гурвица"
   ]
  },
  {
   "cell_type": "code",
   "execution_count": 22,
   "id": "cef2a429",
   "metadata": {},
   "outputs": [],
   "source": [
    " a = [0.1 * i for i in range(11)]"
   ]
  },
  {
   "cell_type": "code",
   "execution_count": 23,
   "id": "96fd5714",
   "metadata": {},
   "outputs": [
    {
     "data": {
      "text/plain": [
       "[8.992,\n",
       " 8.5988,\n",
       " 8.2056,\n",
       " 7.8124,\n",
       " 7.4192,\n",
       " 7.026,\n",
       " 6.6328,\n",
       " 6.2608,\n",
       " 6.248200000000001,\n",
       " 6.2356,\n",
       " 6.223]"
      ]
     },
     "execution_count": 23,
     "metadata": {},
     "output_type": "execute_result"
    }
   ],
   "source": [
    "H = [max(a[i]*my_new_matrix.min(axis=1) + (1-a[i])*my_new_matrix.max(axis=1)) for i in range(len(a))]\n",
    "H"
   ]
  },
  {
   "cell_type": "code",
   "execution_count": 24,
   "id": "d3cdd785",
   "metadata": {},
   "outputs": [
    {
     "data": {
      "text/plain": [
       "[2, 2, 2, 2, 2, 2, 2, 1, 1, 1, 1]"
      ]
     },
     "execution_count": 24,
     "metadata": {},
     "output_type": "execute_result"
    }
   ],
   "source": [
    "[(a[i]*my_new_matrix.min(axis=1) + (1-a[i])*my_new_matrix.max(axis=1)).argmax()+1 for i in range(len(a))]"
   ]
  },
  {
   "cell_type": "code",
   "execution_count": 25,
   "id": "d5a4385f",
   "metadata": {},
   "outputs": [],
   "source": [
    "df = pd.DataFrame({\n",
    "    \"a\":a,\n",
    "    \"Значение H\" :H,\n",
    "    \"Номер выгодной стратегии\":[(a[i]*my_new_matrix.min(axis=1) + (1-a[i])*my_new_matrix.max(axis=1)).argmax()+1 for i in range(len(a))]\n",
    "})"
   ]
  },
  {
   "cell_type": "code",
   "execution_count": 26,
   "id": "bdb476d5",
   "metadata": {},
   "outputs": [
    {
     "data": {
      "text/html": [
       "<div>\n",
       "<style scoped>\n",
       "    .dataframe tbody tr th:only-of-type {\n",
       "        vertical-align: middle;\n",
       "    }\n",
       "\n",
       "    .dataframe tbody tr th {\n",
       "        vertical-align: top;\n",
       "    }\n",
       "\n",
       "    .dataframe thead th {\n",
       "        text-align: right;\n",
       "    }\n",
       "</style>\n",
       "<table border=\"1\" class=\"dataframe\">\n",
       "  <thead>\n",
       "    <tr style=\"text-align: right;\">\n",
       "      <th></th>\n",
       "      <th>a</th>\n",
       "      <th>Значение H</th>\n",
       "      <th>Номер выгодной стратегии</th>\n",
       "    </tr>\n",
       "  </thead>\n",
       "  <tbody>\n",
       "    <tr>\n",
       "      <th>0</th>\n",
       "      <td>0.0</td>\n",
       "      <td>8.9920</td>\n",
       "      <td>2</td>\n",
       "    </tr>\n",
       "    <tr>\n",
       "      <th>1</th>\n",
       "      <td>0.1</td>\n",
       "      <td>8.5988</td>\n",
       "      <td>2</td>\n",
       "    </tr>\n",
       "    <tr>\n",
       "      <th>2</th>\n",
       "      <td>0.2</td>\n",
       "      <td>8.2056</td>\n",
       "      <td>2</td>\n",
       "    </tr>\n",
       "    <tr>\n",
       "      <th>3</th>\n",
       "      <td>0.3</td>\n",
       "      <td>7.8124</td>\n",
       "      <td>2</td>\n",
       "    </tr>\n",
       "    <tr>\n",
       "      <th>4</th>\n",
       "      <td>0.4</td>\n",
       "      <td>7.4192</td>\n",
       "      <td>2</td>\n",
       "    </tr>\n",
       "    <tr>\n",
       "      <th>5</th>\n",
       "      <td>0.5</td>\n",
       "      <td>7.0260</td>\n",
       "      <td>2</td>\n",
       "    </tr>\n",
       "    <tr>\n",
       "      <th>6</th>\n",
       "      <td>0.6</td>\n",
       "      <td>6.6328</td>\n",
       "      <td>2</td>\n",
       "    </tr>\n",
       "    <tr>\n",
       "      <th>7</th>\n",
       "      <td>0.7</td>\n",
       "      <td>6.2608</td>\n",
       "      <td>1</td>\n",
       "    </tr>\n",
       "    <tr>\n",
       "      <th>8</th>\n",
       "      <td>0.8</td>\n",
       "      <td>6.2482</td>\n",
       "      <td>1</td>\n",
       "    </tr>\n",
       "    <tr>\n",
       "      <th>9</th>\n",
       "      <td>0.9</td>\n",
       "      <td>6.2356</td>\n",
       "      <td>1</td>\n",
       "    </tr>\n",
       "    <tr>\n",
       "      <th>10</th>\n",
       "      <td>1.0</td>\n",
       "      <td>6.2230</td>\n",
       "      <td>1</td>\n",
       "    </tr>\n",
       "  </tbody>\n",
       "</table>\n",
       "</div>"
      ],
      "text/plain": [
       "      a  Значение H  Номер выгодной стратегии\n",
       "0   0.0      8.9920                         2\n",
       "1   0.1      8.5988                         2\n",
       "2   0.2      8.2056                         2\n",
       "3   0.3      7.8124                         2\n",
       "4   0.4      7.4192                         2\n",
       "5   0.5      7.0260                         2\n",
       "6   0.6      6.6328                         2\n",
       "7   0.7      6.2608                         1\n",
       "8   0.8      6.2482                         1\n",
       "9   0.9      6.2356                         1\n",
       "10  1.0      6.2230                         1"
      ]
     },
     "execution_count": 26,
     "metadata": {},
     "output_type": "execute_result"
    }
   ],
   "source": [
    "df"
   ]
  },
  {
   "cell_type": "markdown",
   "id": "0dd6647e",
   "metadata": {},
   "source": [
    "Исходя из лабораторной работы, получаем, что вариант 2 является самым оптимальным"
   ]
  }
 ],
 "metadata": {
  "kernelspec": {
   "display_name": "Python 3 (ipykernel)",
   "language": "python",
   "name": "python3"
  },
  "language_info": {
   "codemirror_mode": {
    "name": "ipython",
    "version": 3
   },
   "file_extension": ".py",
   "mimetype": "text/x-python",
   "name": "python",
   "nbconvert_exporter": "python",
   "pygments_lexer": "ipython3",
   "version": "3.9.7"
  }
 },
 "nbformat": 4,
 "nbformat_minor": 5
}
