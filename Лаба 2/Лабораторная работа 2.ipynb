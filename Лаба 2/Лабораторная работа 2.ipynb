{
 "cells": [
  {
   "cell_type": "code",
   "execution_count": 6,
   "id": "2afb1273",
   "metadata": {},
   "outputs": [],
   "source": [
    "import pandas as pd \n",
    "import numpy as np\n",
    "import matplotlib.pyplot as plt \n",
    "\n"
   ]
  },
  {
   "cell_type": "markdown",
   "id": "a3d6d68c",
   "metadata": {},
   "source": [
    "Создадим таблицу с вариантом"
   ]
  },
  {
   "cell_type": "code",
   "execution_count": 7,
   "id": "66df923d",
   "metadata": {},
   "outputs": [],
   "source": [
    "y1 = 1\n",
    "y2 = 0.4\n",
    "y3 = 0.1\n",
    "y4 = 0.01"
   ]
  },
  {
   "cell_type": "code",
   "execution_count": 8,
   "id": "bea577b5",
   "metadata": {},
   "outputs": [],
   "source": [
    "def one(y1):\n",
    "    return 225+22*y1\n",
    "\n",
    "def two(y2):\n",
    "    return 200+45*y2\n",
    "\n",
    "def three(y3):\n",
    "    return 183+450*y3\n",
    "\n",
    "def four(y4):\n",
    "    return 168+1000*y4\n",
    "\n",
    "def five(y5):\n",
    "    return 153 + 5200 * y5\n",
    "    "
   ]
  },
  {
   "cell_type": "code",
   "execution_count": 9,
   "id": "890c89e3",
   "metadata": {},
   "outputs": [
    {
     "data": {
      "text/html": [
       "<div>\n",
       "<style scoped>\n",
       "    .dataframe tbody tr th:only-of-type {\n",
       "        vertical-align: middle;\n",
       "    }\n",
       "\n",
       "    .dataframe tbody tr th {\n",
       "        vertical-align: top;\n",
       "    }\n",
       "\n",
       "    .dataframe thead th {\n",
       "        text-align: right;\n",
       "    }\n",
       "</style>\n",
       "<table border=\"1\" class=\"dataframe\">\n",
       "  <thead>\n",
       "    <tr style=\"text-align: right;\">\n",
       "      <th></th>\n",
       "      <th>Cтратегия</th>\n",
       "      <th>y1</th>\n",
       "      <th>y2</th>\n",
       "      <th>y3</th>\n",
       "      <th>y4</th>\n",
       "    </tr>\n",
       "  </thead>\n",
       "  <tbody>\n",
       "    <tr>\n",
       "      <th>0</th>\n",
       "      <td>1</td>\n",
       "      <td>247</td>\n",
       "      <td>233.8</td>\n",
       "      <td>227.2</td>\n",
       "      <td>225.22</td>\n",
       "    </tr>\n",
       "    <tr>\n",
       "      <th>1</th>\n",
       "      <td>2</td>\n",
       "      <td>245</td>\n",
       "      <td>218.0</td>\n",
       "      <td>204.5</td>\n",
       "      <td>200.45</td>\n",
       "    </tr>\n",
       "    <tr>\n",
       "      <th>2</th>\n",
       "      <td>3</td>\n",
       "      <td>633</td>\n",
       "      <td>363.0</td>\n",
       "      <td>228.0</td>\n",
       "      <td>187.50</td>\n",
       "    </tr>\n",
       "    <tr>\n",
       "      <th>3</th>\n",
       "      <td>4</td>\n",
       "      <td>1168</td>\n",
       "      <td>568.0</td>\n",
       "      <td>268.0</td>\n",
       "      <td>178.00</td>\n",
       "    </tr>\n",
       "    <tr>\n",
       "      <th>4</th>\n",
       "      <td>5</td>\n",
       "      <td>5353</td>\n",
       "      <td>2233.0</td>\n",
       "      <td>673.0</td>\n",
       "      <td>205.00</td>\n",
       "    </tr>\n",
       "  </tbody>\n",
       "</table>\n",
       "</div>"
      ],
      "text/plain": [
       "   Cтратегия    y1      y2     y3      y4\n",
       "0          1   247   233.8  227.2  225.22\n",
       "1          2   245   218.0  204.5  200.45\n",
       "2          3   633   363.0  228.0  187.50\n",
       "3          4  1168   568.0  268.0  178.00\n",
       "4          5  5353  2233.0  673.0  205.00"
      ]
     },
     "execution_count": 9,
     "metadata": {},
     "output_type": "execute_result"
    }
   ],
   "source": [
    "strategy = [i for i in range(1,6)]\n",
    "y1 = [one(y1),two(y1),three(y1),four(y1), five(y1)]\n",
    "y2 = [one(y2),two(y2),three(y2),four(y2), five(y2)]\n",
    "y3 = [one(y3),two(y3),three(y3),four(y3), five(y3)]\n",
    "y4 = [one(y4),two(y4),three(y4),four(y4), five(y4)]\n",
    "\n",
    "df = pd.DataFrame({\n",
    "\n",
    "    \"Cтратегия\": strategy,\n",
    "    \"y1\": y1,\n",
    "    \"y2\":y2,\n",
    "    \"y3\":y3,\n",
    "    \"y4\":y4\n",
    "})\n",
    "\n",
    "df"
   ]
  },
  {
   "cell_type": "markdown",
   "id": "f5caf55b",
   "metadata": {},
   "source": [
    "Подберем оптимальный вариант по критерию Лапласса"
   ]
  },
  {
   "cell_type": "code",
   "execution_count": 15,
   "id": "4bac2bc8",
   "metadata": {},
   "outputs": [
    {
     "data": {
      "text/html": [
       "<div>\n",
       "<style scoped>\n",
       "    .dataframe tbody tr th:only-of-type {\n",
       "        vertical-align: middle;\n",
       "    }\n",
       "\n",
       "    .dataframe tbody tr th {\n",
       "        vertical-align: top;\n",
       "    }\n",
       "\n",
       "    .dataframe thead th {\n",
       "        text-align: right;\n",
       "    }\n",
       "</style>\n",
       "<table border=\"1\" class=\"dataframe\">\n",
       "  <thead>\n",
       "    <tr style=\"text-align: right;\">\n",
       "      <th></th>\n",
       "      <th>y1</th>\n",
       "      <th>y2</th>\n",
       "      <th>y3</th>\n",
       "      <th>y4</th>\n",
       "    </tr>\n",
       "  </thead>\n",
       "  <tbody>\n",
       "    <tr>\n",
       "      <th>0</th>\n",
       "      <td>49.4</td>\n",
       "      <td>46.76</td>\n",
       "      <td>68.16</td>\n",
       "      <td>67.566</td>\n",
       "    </tr>\n",
       "    <tr>\n",
       "      <th>1</th>\n",
       "      <td>49.0</td>\n",
       "      <td>43.60</td>\n",
       "      <td>61.35</td>\n",
       "      <td>60.135</td>\n",
       "    </tr>\n",
       "    <tr>\n",
       "      <th>2</th>\n",
       "      <td>126.6</td>\n",
       "      <td>72.60</td>\n",
       "      <td>68.40</td>\n",
       "      <td>56.250</td>\n",
       "    </tr>\n",
       "    <tr>\n",
       "      <th>3</th>\n",
       "      <td>233.6</td>\n",
       "      <td>113.60</td>\n",
       "      <td>80.40</td>\n",
       "      <td>53.400</td>\n",
       "    </tr>\n",
       "    <tr>\n",
       "      <th>4</th>\n",
       "      <td>1070.6</td>\n",
       "      <td>446.60</td>\n",
       "      <td>201.90</td>\n",
       "      <td>61.500</td>\n",
       "    </tr>\n",
       "  </tbody>\n",
       "</table>\n",
       "</div>"
      ],
      "text/plain": [
       "       y1      y2      y3      y4\n",
       "0    49.4   46.76   68.16  67.566\n",
       "1    49.0   43.60   61.35  60.135\n",
       "2   126.6   72.60   68.40  56.250\n",
       "3   233.6  113.60   80.40  53.400\n",
       "4  1070.6  446.60  201.90  61.500"
      ]
     },
     "execution_count": 15,
     "metadata": {},
     "output_type": "execute_result"
    }
   ],
   "source": [
    "laplass_1 = df[['y1','y2','y3','y4']]*[0.2,0.2,0.3,0.3]\n",
    "laplass_1"
   ]
  },
  {
   "cell_type": "code",
   "execution_count": 16,
   "id": "669efdf0",
   "metadata": {},
   "outputs": [
    {
     "data": {
      "text/plain": [
       "0     231.886\n",
       "1     214.085\n",
       "2     323.850\n",
       "3     481.000\n",
       "4    1780.600\n",
       "dtype: float64"
      ]
     },
     "execution_count": 16,
     "metadata": {},
     "output_type": "execute_result"
    }
   ],
   "source": [
    "laplass_1.sum(axis = 1)"
   ]
  },
  {
   "cell_type": "markdown",
   "id": "40016403",
   "metadata": {},
   "source": [
    "##### Согласно концепции Лапласса, нужно брать, то что больше, значит берем вариант 5"
   ]
  },
  {
   "cell_type": "code",
   "execution_count": 17,
   "id": "b3565351",
   "metadata": {},
   "outputs": [
    {
     "data": {
      "text/html": [
       "<div>\n",
       "<style scoped>\n",
       "    .dataframe tbody tr th:only-of-type {\n",
       "        vertical-align: middle;\n",
       "    }\n",
       "\n",
       "    .dataframe tbody tr th {\n",
       "        vertical-align: top;\n",
       "    }\n",
       "\n",
       "    .dataframe thead th {\n",
       "        text-align: right;\n",
       "    }\n",
       "</style>\n",
       "<table border=\"1\" class=\"dataframe\">\n",
       "  <thead>\n",
       "    <tr style=\"text-align: right;\">\n",
       "      <th></th>\n",
       "      <th>y1</th>\n",
       "      <th>y2</th>\n",
       "      <th>y3</th>\n",
       "      <th>y4</th>\n",
       "    </tr>\n",
       "  </thead>\n",
       "  <tbody>\n",
       "    <tr>\n",
       "      <th>0</th>\n",
       "      <td>61.75</td>\n",
       "      <td>58.45</td>\n",
       "      <td>56.800</td>\n",
       "      <td>56.3050</td>\n",
       "    </tr>\n",
       "    <tr>\n",
       "      <th>1</th>\n",
       "      <td>61.25</td>\n",
       "      <td>54.50</td>\n",
       "      <td>51.125</td>\n",
       "      <td>50.1125</td>\n",
       "    </tr>\n",
       "    <tr>\n",
       "      <th>2</th>\n",
       "      <td>158.25</td>\n",
       "      <td>90.75</td>\n",
       "      <td>57.000</td>\n",
       "      <td>46.8750</td>\n",
       "    </tr>\n",
       "    <tr>\n",
       "      <th>3</th>\n",
       "      <td>292.00</td>\n",
       "      <td>142.00</td>\n",
       "      <td>67.000</td>\n",
       "      <td>44.5000</td>\n",
       "    </tr>\n",
       "    <tr>\n",
       "      <th>4</th>\n",
       "      <td>1338.25</td>\n",
       "      <td>558.25</td>\n",
       "      <td>168.250</td>\n",
       "      <td>51.2500</td>\n",
       "    </tr>\n",
       "  </tbody>\n",
       "</table>\n",
       "</div>"
      ],
      "text/plain": [
       "        y1      y2       y3       y4\n",
       "0    61.75   58.45   56.800  56.3050\n",
       "1    61.25   54.50   51.125  50.1125\n",
       "2   158.25   90.75   57.000  46.8750\n",
       "3   292.00  142.00   67.000  44.5000\n",
       "4  1338.25  558.25  168.250  51.2500"
      ]
     },
     "execution_count": 17,
     "metadata": {},
     "output_type": "execute_result"
    }
   ],
   "source": [
    "laplass_2 = df[['y1','y2','y3','y4']]*[0.25,0.25,0.25,0.25]\n",
    "laplass_2"
   ]
  },
  {
   "cell_type": "code",
   "execution_count": 19,
   "id": "222bc778",
   "metadata": {},
   "outputs": [
    {
     "data": {
      "text/plain": [
       "0     233.3050\n",
       "1     216.9875\n",
       "2     352.8750\n",
       "3     545.5000\n",
       "4    2116.0000\n",
       "dtype: float64"
      ]
     },
     "execution_count": 19,
     "metadata": {},
     "output_type": "execute_result"
    }
   ],
   "source": [
    "laplass_2.sum(axis = 1)"
   ]
  },
  {
   "cell_type": "markdown",
   "id": "538eb443",
   "metadata": {},
   "source": [
    "Согласно концепции Лапласса, нужно брать, то что больше, значит берем вариант 5"
   ]
  },
  {
   "cell_type": "markdown",
   "id": "8e94e6a9",
   "metadata": {},
   "source": [
    "# Теперь реализуем алгоритм Гурвица"
   ]
  },
  {
   "cell_type": "code",
   "execution_count": 21,
   "id": "f780f96b",
   "metadata": {},
   "outputs": [
    {
     "data": {
      "text/plain": [
       "[5353.0,\n",
       " 4838.2,\n",
       " 4323.400000000001,\n",
       " 3808.6,\n",
       " 3293.7999999999997,\n",
       " 2779.0,\n",
       " 2264.1999999999994,\n",
       " 1749.3999999999996,\n",
       " 1234.5999999999997,\n",
       " 719.7999999999998,\n",
       " 225.22]"
      ]
     },
     "execution_count": 21,
     "metadata": {},
     "output_type": "execute_result"
    }
   ],
   "source": [
    "a = [0.1 * i for i in range(11)]\n",
    "H = [max(a[i]*df[['y1','y2','y3','y4']].min(axis=1) + (1-a[i])*df[['y1','y2','y3','y4']].max(axis=1)) for i in range(len(a))]\n",
    "H"
   ]
  },
  {
   "cell_type": "code",
   "execution_count": 22,
   "id": "6fb1b438",
   "metadata": {},
   "outputs": [
    {
     "data": {
      "text/plain": [
       "[5, 5, 5, 5, 5, 5, 5, 5, 5, 5, 1]"
      ]
     },
     "execution_count": 22,
     "metadata": {},
     "output_type": "execute_result"
    }
   ],
   "source": [
    "[(a[i]*df[['y1','y2','y3','y4']].min(axis=1) + (1-a[i])*df[['y1','y2','y3','y4']].max(axis=1)).argmax()+1 for i in range(len(a))]"
   ]
  },
  {
   "cell_type": "code",
   "execution_count": 24,
   "id": "9f9d363c",
   "metadata": {},
   "outputs": [
    {
     "data": {
      "text/html": [
       "<div>\n",
       "<style scoped>\n",
       "    .dataframe tbody tr th:only-of-type {\n",
       "        vertical-align: middle;\n",
       "    }\n",
       "\n",
       "    .dataframe tbody tr th {\n",
       "        vertical-align: top;\n",
       "    }\n",
       "\n",
       "    .dataframe thead th {\n",
       "        text-align: right;\n",
       "    }\n",
       "</style>\n",
       "<table border=\"1\" class=\"dataframe\">\n",
       "  <thead>\n",
       "    <tr style=\"text-align: right;\">\n",
       "      <th></th>\n",
       "      <th>a</th>\n",
       "      <th>Значение H</th>\n",
       "      <th>Номер выгодной стратегии</th>\n",
       "    </tr>\n",
       "  </thead>\n",
       "  <tbody>\n",
       "    <tr>\n",
       "      <th>0</th>\n",
       "      <td>0.0</td>\n",
       "      <td>5353.00</td>\n",
       "      <td>5</td>\n",
       "    </tr>\n",
       "    <tr>\n",
       "      <th>1</th>\n",
       "      <td>0.1</td>\n",
       "      <td>4838.20</td>\n",
       "      <td>5</td>\n",
       "    </tr>\n",
       "    <tr>\n",
       "      <th>2</th>\n",
       "      <td>0.2</td>\n",
       "      <td>4323.40</td>\n",
       "      <td>5</td>\n",
       "    </tr>\n",
       "    <tr>\n",
       "      <th>3</th>\n",
       "      <td>0.3</td>\n",
       "      <td>3808.60</td>\n",
       "      <td>5</td>\n",
       "    </tr>\n",
       "    <tr>\n",
       "      <th>4</th>\n",
       "      <td>0.4</td>\n",
       "      <td>3293.80</td>\n",
       "      <td>5</td>\n",
       "    </tr>\n",
       "    <tr>\n",
       "      <th>5</th>\n",
       "      <td>0.5</td>\n",
       "      <td>2779.00</td>\n",
       "      <td>5</td>\n",
       "    </tr>\n",
       "    <tr>\n",
       "      <th>6</th>\n",
       "      <td>0.6</td>\n",
       "      <td>2264.20</td>\n",
       "      <td>5</td>\n",
       "    </tr>\n",
       "    <tr>\n",
       "      <th>7</th>\n",
       "      <td>0.7</td>\n",
       "      <td>1749.40</td>\n",
       "      <td>5</td>\n",
       "    </tr>\n",
       "    <tr>\n",
       "      <th>8</th>\n",
       "      <td>0.8</td>\n",
       "      <td>1234.60</td>\n",
       "      <td>5</td>\n",
       "    </tr>\n",
       "    <tr>\n",
       "      <th>9</th>\n",
       "      <td>0.9</td>\n",
       "      <td>719.80</td>\n",
       "      <td>5</td>\n",
       "    </tr>\n",
       "    <tr>\n",
       "      <th>10</th>\n",
       "      <td>1.0</td>\n",
       "      <td>225.22</td>\n",
       "      <td>1</td>\n",
       "    </tr>\n",
       "  </tbody>\n",
       "</table>\n",
       "</div>"
      ],
      "text/plain": [
       "      a  Значение H  Номер выгодной стратегии\n",
       "0   0.0     5353.00                         5\n",
       "1   0.1     4838.20                         5\n",
       "2   0.2     4323.40                         5\n",
       "3   0.3     3808.60                         5\n",
       "4   0.4     3293.80                         5\n",
       "5   0.5     2779.00                         5\n",
       "6   0.6     2264.20                         5\n",
       "7   0.7     1749.40                         5\n",
       "8   0.8     1234.60                         5\n",
       "9   0.9      719.80                         5\n",
       "10  1.0      225.22                         1"
      ]
     },
     "execution_count": 24,
     "metadata": {},
     "output_type": "execute_result"
    }
   ],
   "source": [
    "df_1 = pd.DataFrame({\n",
    "    \"a\":a,\n",
    "    \"Значение H\" :H,\n",
    "    \"Номер выгодной стратегии\":[(a[i]*df[['y1','y2','y3','y4']].min(axis=1) + (1-a[i])*df[['y1','y2','y3','y4']].max(axis=1)).argmax()+1 for i in range(len(a))]\n",
    "})\n",
    "df_1"
   ]
  },
  {
   "cell_type": "markdown",
   "id": "5bfc3d59",
   "metadata": {},
   "source": [
    "Согласно Гурвицу берем вариант 1"
   ]
  },
  {
   "cell_type": "markdown",
   "id": "f0b7c64a",
   "metadata": {},
   "source": [
    "# Реализуем выбор по Сэвиджу\n",
    "Создадим матрицу рисков"
   ]
  },
  {
   "cell_type": "code",
   "execution_count": 38,
   "id": "bc5bafef",
   "metadata": {},
   "outputs": [],
   "source": [
    "matrix_1  = (10000 - df[['y1','y2','y3','y4']])"
   ]
  },
  {
   "cell_type": "code",
   "execution_count": 40,
   "id": "31e78d18",
   "metadata": {},
   "outputs": [
    {
     "data": {
      "text/html": [
       "<div>\n",
       "<style scoped>\n",
       "    .dataframe tbody tr th:only-of-type {\n",
       "        vertical-align: middle;\n",
       "    }\n",
       "\n",
       "    .dataframe tbody tr th {\n",
       "        vertical-align: top;\n",
       "    }\n",
       "\n",
       "    .dataframe thead th {\n",
       "        text-align: right;\n",
       "    }\n",
       "</style>\n",
       "<table border=\"1\" class=\"dataframe\">\n",
       "  <thead>\n",
       "    <tr style=\"text-align: right;\">\n",
       "      <th></th>\n",
       "      <th>y1</th>\n",
       "      <th>y2</th>\n",
       "      <th>y3</th>\n",
       "      <th>y4</th>\n",
       "    </tr>\n",
       "  </thead>\n",
       "  <tbody>\n",
       "    <tr>\n",
       "      <th>0</th>\n",
       "      <td>9753</td>\n",
       "      <td>9766.2</td>\n",
       "      <td>9772.8</td>\n",
       "      <td>9774.78</td>\n",
       "    </tr>\n",
       "    <tr>\n",
       "      <th>1</th>\n",
       "      <td>9755</td>\n",
       "      <td>9782.0</td>\n",
       "      <td>9795.5</td>\n",
       "      <td>9799.55</td>\n",
       "    </tr>\n",
       "    <tr>\n",
       "      <th>2</th>\n",
       "      <td>9367</td>\n",
       "      <td>9637.0</td>\n",
       "      <td>9772.0</td>\n",
       "      <td>9812.50</td>\n",
       "    </tr>\n",
       "    <tr>\n",
       "      <th>3</th>\n",
       "      <td>8832</td>\n",
       "      <td>9432.0</td>\n",
       "      <td>9732.0</td>\n",
       "      <td>9822.00</td>\n",
       "    </tr>\n",
       "    <tr>\n",
       "      <th>4</th>\n",
       "      <td>4647</td>\n",
       "      <td>7767.0</td>\n",
       "      <td>9327.0</td>\n",
       "      <td>9795.00</td>\n",
       "    </tr>\n",
       "  </tbody>\n",
       "</table>\n",
       "</div>"
      ],
      "text/plain": [
       "     y1      y2      y3       y4\n",
       "0  9753  9766.2  9772.8  9774.78\n",
       "1  9755  9782.0  9795.5  9799.55\n",
       "2  9367  9637.0  9772.0  9812.50\n",
       "3  8832  9432.0  9732.0  9822.00\n",
       "4  4647  7767.0  9327.0  9795.00"
      ]
     },
     "execution_count": 40,
     "metadata": {},
     "output_type": "execute_result"
    }
   ],
   "source": [
    "matrix_1 "
   ]
  },
  {
   "cell_type": "code",
   "execution_count": 48,
   "id": "f6ca5fe9",
   "metadata": {},
   "outputs": [
    {
     "data": {
      "text/plain": [
       "array([9774.78, 9799.55, 9812.5 , 9822.  , 9795.  ])"
      ]
     },
     "execution_count": 48,
     "metadata": {},
     "output_type": "execute_result"
    }
   ],
   "source": [
    "matrix_1.max(axis=1).values"
   ]
  },
  {
   "cell_type": "code",
   "execution_count": 58,
   "id": "c7d0a890",
   "metadata": {},
   "outputs": [
    {
     "data": {
      "text/plain": [
       "[6.6660000000005315,\n",
       " 13.63499999999949,\n",
       " 136.35000000000002,\n",
       " 303.0,\n",
       " 1575.6000000000004]"
      ]
     },
     "execution_count": 58,
     "metadata": {},
     "output_type": "execute_result"
    }
   ],
   "source": [
    "result = []\n",
    "for i in range(len(matrix_1.max(axis=1).values)):\n",
    "    result.append(abs(sum((matrix_1.iloc[i]-matrix_1.max(axis=1).values[i]).values * [0.2,0.2,0.3,0.3])))\n",
    "result"
   ]
  },
  {
   "cell_type": "code",
   "execution_count": 59,
   "id": "61b3d5a1",
   "metadata": {},
   "outputs": [
    {
     "data": {
      "text/plain": [
       "6.6660000000005315"
      ]
     },
     "execution_count": 59,
     "metadata": {},
     "output_type": "execute_result"
    }
   ],
   "source": [
    "min(result)"
   ]
  },
  {
   "cell_type": "markdown",
   "id": "18b407dd",
   "metadata": {},
   "source": [
    "что соответствует 1 варианту"
   ]
  },
  {
   "cell_type": "code",
   "execution_count": 60,
   "id": "d8aa3311",
   "metadata": {},
   "outputs": [
    {
     "data": {
      "text/plain": [
       "[8.085000000000491, 16.537499999999454, 165.375, 367.5, 1911.0]"
      ]
     },
     "execution_count": 60,
     "metadata": {},
     "output_type": "execute_result"
    }
   ],
   "source": [
    "result = []\n",
    "for i in range(len(matrix_1.max(axis=1).values)):\n",
    "    result.append(abs(sum((matrix_1.iloc[i]-matrix_1.max(axis=1).values[i]).values * [0.25,0.25,0.25,0.25])))\n",
    "result"
   ]
  },
  {
   "cell_type": "code",
   "execution_count": 61,
   "id": "4e7a4bf0",
   "metadata": {},
   "outputs": [
    {
     "data": {
      "text/plain": [
       "8.085000000000491"
      ]
     },
     "execution_count": 61,
     "metadata": {},
     "output_type": "execute_result"
    }
   ],
   "source": [
    "min(result)"
   ]
  },
  {
   "cell_type": "markdown",
   "id": "104e1909",
   "metadata": {},
   "source": [
    "что соответствует 1 варианту"
   ]
  },
  {
   "cell_type": "markdown",
   "id": "daecbaf7",
   "metadata": {},
   "source": [
    "# Реализуем алгоритм Вальда"
   ]
  },
  {
   "cell_type": "code",
   "execution_count": 36,
   "id": "95e6f6d8",
   "metadata": {},
   "outputs": [
    {
     "data": {
      "text/plain": [
       "0    225.22\n",
       "1    200.45\n",
       "2    187.50\n",
       "3    178.00\n",
       "4    205.00\n",
       "dtype: float64"
      ]
     },
     "execution_count": 36,
     "metadata": {},
     "output_type": "execute_result"
    }
   ],
   "source": [
    "vald = df[['y1','y2','y3','y4']].min(axis=1)\n",
    "vald"
   ]
  },
  {
   "cell_type": "code",
   "execution_count": 37,
   "id": "550e8b97",
   "metadata": {},
   "outputs": [
    {
     "data": {
      "text/plain": [
       "1"
      ]
     },
     "execution_count": 37,
     "metadata": {},
     "output_type": "execute_result"
    }
   ],
   "source": [
    "vald.argmax()+1"
   ]
  },
  {
   "cell_type": "markdown",
   "id": "c75fd422",
   "metadata": {},
   "source": [
    "По критерию Вальда проходит 1 вариант"
   ]
  },
  {
   "cell_type": "markdown",
   "id": "c198563a",
   "metadata": {},
   "source": [
    "В ходе работы было выяснено, что первый вариант является оптимальным, так как 3 из 4 метода указали на него"
   ]
  },
  {
   "cell_type": "code",
   "execution_count": null,
   "id": "921be327",
   "metadata": {},
   "outputs": [],
   "source": []
  }
 ],
 "metadata": {
  "kernelspec": {
   "display_name": "Python 3 (ipykernel)",
   "language": "python",
   "name": "python3"
  },
  "language_info": {
   "codemirror_mode": {
    "name": "ipython",
    "version": 3
   },
   "file_extension": ".py",
   "mimetype": "text/x-python",
   "name": "python",
   "nbconvert_exporter": "python",
   "pygments_lexer": "ipython3",
   "version": "3.9.7"
  }
 },
 "nbformat": 4,
 "nbformat_minor": 5
}
