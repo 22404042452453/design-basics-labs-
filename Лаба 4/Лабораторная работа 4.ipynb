{
 "cells": [
  {
   "cell_type": "markdown",
   "id": "f9aa8b7c",
   "metadata": {},
   "source": [
    "# Лабораторная работа №4"
   ]
  },
  {
   "cell_type": "code",
   "execution_count": null,
   "id": "a2eb8664",
   "metadata": {},
   "outputs": [],
   "source": [
    "import pandas as pd \n",
    "import numpy as np \n",
    "\n",
    "l,T,P,cosa = 20,5500,46,0.8"
   ]
  },
  {
   "cell_type": "code",
   "execution_count": 9,
   "id": "13042acf",
   "metadata": {},
   "outputs": [],
   "source": [
    "k = [10,11,12]\n",
    "r = [0.384,0.409,0.43]\n",
    "G = lambda k,r: k*l*(0.004+0.024) + ((P**2 *r*l)/110**2) *(0.124+T*10**-4)**2*8760 * 1.6*10**-5"
   ]
  },
  {
   "cell_type": "code",
   "execution_count": 16,
   "id": "a3dfe194",
   "metadata": {},
   "outputs": [
    {
     "data": {
      "text/plain": [
       "array([[0., 0.],\n",
       "       [0., 0.],\n",
       "       [0., 0.]])"
      ]
     },
     "execution_count": 16,
     "metadata": {},
     "output_type": "execute_result"
    }
   ],
   "source": [
    "my_pay_matrix = np.zeros((3,2))\n",
    "my_pay_matrix"
   ]
  },
  {
   "cell_type": "code",
   "execution_count": 39,
   "id": "bcac42ef",
   "metadata": {},
   "outputs": [
    {
     "data": {
      "text/html": [
       "<div>\n",
       "<style scoped>\n",
       "    .dataframe tbody tr th:only-of-type {\n",
       "        vertical-align: middle;\n",
       "    }\n",
       "\n",
       "    .dataframe tbody tr th {\n",
       "        vertical-align: top;\n",
       "    }\n",
       "\n",
       "    .dataframe thead th {\n",
       "        text-align: right;\n",
       "    }\n",
       "</style>\n",
       "<table border=\"1\" class=\"dataframe\">\n",
       "  <thead>\n",
       "    <tr style=\"text-align: right;\">\n",
       "      <th></th>\n",
       "      <th>g</th>\n",
       "      <th>k</th>\n",
       "    </tr>\n",
       "  </thead>\n",
       "  <tbody>\n",
       "    <tr>\n",
       "      <th>0</th>\n",
       "      <td>5.685514</td>\n",
       "      <td>200</td>\n",
       "    </tr>\n",
       "    <tr>\n",
       "      <th>1</th>\n",
       "      <td>6.251081</td>\n",
       "      <td>220</td>\n",
       "    </tr>\n",
       "    <tr>\n",
       "      <th>2</th>\n",
       "      <td>6.815757</td>\n",
       "      <td>240</td>\n",
       "    </tr>\n",
       "  </tbody>\n",
       "</table>\n",
       "</div>"
      ],
      "text/plain": [
       "          g    k\n",
       "0  5.685514  200\n",
       "1  6.251081  220\n",
       "2  6.815757  240"
      ]
     },
     "execution_count": 39,
     "metadata": {},
     "output_type": "execute_result"
    }
   ],
   "source": [
    "g = []\n",
    "kp = []\n",
    "for i in range(len(k)):\n",
    "    g.append(G(k[i],r[i]))\n",
    "    kp.append(k[i]*l)\n",
    "             \n",
    "data = pd.DataFrame({\n",
    "    \"g\":g,\n",
    "    \"k\":kp})\n",
    "             \n",
    "data"
   ]
  },
  {
   "cell_type": "code",
   "execution_count": 40,
   "id": "23301b83",
   "metadata": {},
   "outputs": [],
   "source": [
    "def result_1(data,w):\n",
    "    data = data[\"g\"]*w[0] + data[\"k\"]*w[1]\n",
    "    return f\"Номер успшеного варианта {data.argmax()+1}\"\n",
    "    \n",
    "    \n",
    "    "
   ]
  },
  {
   "cell_type": "code",
   "execution_count": 41,
   "id": "a487829a",
   "metadata": {},
   "outputs": [
    {
     "data": {
      "text/plain": [
       "'Номер успшеного варианта 3'"
      ]
     },
     "execution_count": 41,
     "metadata": {},
     "output_type": "execute_result"
    }
   ],
   "source": [
    "result_1(data,w = [8.33,1])"
   ]
  },
  {
   "cell_type": "code",
   "execution_count": 42,
   "id": "aeb87ad2",
   "metadata": {},
   "outputs": [
    {
     "data": {
      "text/plain": [
       "'Номер успшеного варианта 3'"
      ]
     },
     "execution_count": 42,
     "metadata": {},
     "output_type": "execute_result"
    }
   ],
   "source": [
    "result_1(data,w = [10,1])"
   ]
  },
  {
   "cell_type": "code",
   "execution_count": 43,
   "id": "bb52d717",
   "metadata": {},
   "outputs": [
    {
     "data": {
      "text/plain": [
       "'Номер успшеного варианта 3'"
      ]
     },
     "execution_count": 43,
     "metadata": {},
     "output_type": "execute_result"
    }
   ],
   "source": [
    "result_1(data,w = [6.67,1])"
   ]
  }
 ],
 "metadata": {
  "kernelspec": {
   "display_name": "Python 3 (ipykernel)",
   "language": "python",
   "name": "python3"
  },
  "language_info": {
   "codemirror_mode": {
    "name": "ipython",
    "version": 3
   },
   "file_extension": ".py",
   "mimetype": "text/x-python",
   "name": "python",
   "nbconvert_exporter": "python",
   "pygments_lexer": "ipython3",
   "version": "3.9.7"
  }
 },
 "nbformat": 4,
 "nbformat_minor": 5
}
